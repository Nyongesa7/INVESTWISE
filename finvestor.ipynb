import os
import time
import threading
from pyngrok import ngrok, conf

# Set your ngrok authtoken here
conf.get_default().auth_token = "30XjsxNocaCijvy3tqnbQfcSlY3_4rHxybQEeKLuA3Xio5ftw"

# 📘 InvestWise Kenya – Google Colab Setup

# 1. Install required libraries
!pip install streamlit pandas pyngrok --quiet

# 2. Create app.py file
app_code = """
import streamlit as st
from fetch_data import get_market_data
from advisor import advise_user

st.set_page_config(page_title='InvestWise Kenya', layout='wide')

st.title('📊 InvestWise Kenya – Real-time Investment Assistant')

st.sidebar.header('🔔 Notifications')
email = st.sidebar.text_input('Enter Email')
whatsapp = st.sidebar.text_input('WhatsApp Number (e.g. +2547...)')
if st.sidebar.button('Subscribe'):
    st.success('You’ve been subscribed (mock only).')

st.header('📈 Market Overview (Live Data)')
market_data = get_market_data()
st.dataframe(market_data)

st.header('💡 Smart Investment Advice')
user_goal = st.text_input('Describe your investment goal:')
if user_goal:
    suggestion = advise_user(user_goal)
    st.success(suggestion)
"""
with open("app.py", "w") as f:
    f.write(app_code)

# 3. Create fetch_data.py
fetch_code = """
import pandas as pd

def get_market_data():
    data = {
        'Asset': ['Treasury Bill', 'NSE Stocks', 'Money Market Fund', 'Bank Savings'],
        'Return (%)': [13.5, 9.2, 10.3, 6.0],
        'Risk Level': ['Low', 'High', 'Moderate', 'Low']
    }
    return pd.DataFrame(data)
"""
with open("fetch_data.py", "w") as f:
    f.write(fetch_code)

# 4. Create advisor.py
advisor_code = """
def advise_user(goal):
    goal = goal.lower()
    if 'save' in goal:
        return '✅ Consider Money Market Funds or Treasury Bills for short-term savings.'
    elif 'long term' in goal:
        return '📈 Consider a mix of NSE stocks and government bonds.'
    elif 'loan' in goal:
        return '💡 Compare bank rates before taking a loan. Try secured options first.'
    else:
        return '🤔 Try diversifying between low-risk and high-return assets.'
"""
with open("advisor.py", "w") as f:
    f.write(advisor_code)

# 5. Create notify.py (optional for future steps)
with open("notify.py", "w") as f:
    f.write("# Notification functions will go here (email, WhatsApp)")

# 6. Launch the app with ngrok tunnel
from pyngrok import ngrok
import threading
import time

# Start Streamlit app in background
def run():
    os.system("streamlit run app.py")
thread = threading.Thread(target=run)
thread.start()

# Wait a few seconds then open tunnel
time.sleep(5)
public_url = ngrok.connect(8501)
print("🔗 Public URL:", public_url)
